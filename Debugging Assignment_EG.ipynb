{
 "cells": [
  {
   "cell_type": "code",
   "execution_count": 38,
   "id": "1896f789",
   "metadata": {},
   "outputs": [
    {
     "name": "stdout",
     "output_type": "stream",
     "text": [
      "we are making an error in the loop. The correct answer is supposed to be: [2,3,4]\n",
      "we are making an error in the loop. The correct answer is supposed to be: [2,3,4]\n",
      "we are making an error in the loop. The correct answer is supposed to be: [2,3,4]\n"
     ]
    },
    {
     "data": {
      "text/plain": [
       "[6, 9, 12]"
      ]
     },
     "execution_count": 38,
     "metadata": {},
     "output_type": "execute_result"
    }
   ],
   "source": [
    "\"\"\"1.a\n",
    "Using the print() function only, get the wrong_add_function to print out where\n",
    "it is making a mistake, given the expected output for ex, \"we are making an error \n",
    "in the loop\", which you would put near the loop. \n",
    "Structure the print() statement to show what the expected output ought to be\n",
    "via f-strings: ie \"The correct answer is supposed to be: [...]\".\n",
    "\"\"\"\n",
    "def wrong_add_function(arg1,arg2):\n",
    "    arg1_index=0\n",
    "    while arg1_index < len(arg1):\n",
    "        arg_2_sum = 0\n",
    "        print(f\"we are making an error in the loop. The correct answer is supposed to be: [2,3,4]\")  #the next for-loop is unnecessary and will result in an incorrect output\n",
    "        for arg2_elements in arg2:\n",
    "            arg_2_sum = sum([arg1[arg1_index]+i for i in arg2])\n",
    "        arg1[arg1_index]=arg_2_sum  \n",
    "        arg1_index+=1\n",
    "    return arg1\n",
    "\n",
    "arg1 = [1,2,3]\n",
    "arg2 = [1,1,1]\n",
    "\n",
    "wrong_add_function(arg1, arg2)\n"
   ]
  },
  {
   "cell_type": "code",
   "execution_count": 19,
   "id": "3eba9fa2",
   "metadata": {},
   "outputs": [
    {
     "data": {
      "text/plain": [
       "[2, 3, 4]"
      ]
     },
     "execution_count": 19,
     "metadata": {},
     "output_type": "execute_result"
    }
   ],
   "source": [
    "\"\"\"1.b\n",
    "Then, changing as little as possible, modify the function, using the same \n",
    "general structure to output the correct answer. Call this new function \n",
    "correct_add_function() \n",
    "\"\"\"\n",
    "def correct_add_function(arg1,arg2):\n",
    "    arg1_index=0\n",
    "    while arg1_index < len(arg1):\n",
    "        arg_2_sum = 0\n",
    "#        for arg2_elements in arg2: I removed this line of code because it was an unnecessary itterable function\n",
    "        arg_2_sum = arg1[arg1_index] + arg2[arg1_index] #i for i in arg2] I removed the sum() function and this portion of code because it was an unnecessary itterable function\n",
    "        arg1[arg1_index]=arg_2_sum  \n",
    "        arg1_index+=1\n",
    "    return arg1\n",
    "\n",
    "arg1 = [1,2,3]\n",
    "arg2 = [1,1,1]\n",
    "\n",
    "correct_add_function(arg1, arg2)"
   ]
  },
  {
   "cell_type": "code",
   "execution_count": 46,
   "id": "72e25934",
   "metadata": {},
   "outputs": [
    {
     "data": {
      "text/plain": [
       "[2, 3, 4]"
      ]
     },
     "execution_count": 46,
     "metadata": {},
     "output_type": "execute_result"
    }
   ],
   "source": [
    "\"\"\"2.a\n",
    "Update the numeric section of the function with your changes from 1 for both \n",
    "2.b and 2.c\n",
    "\"\"\"\n",
    "def wrong_add_function(arg1,arg2):\n",
    "   #numeric section\n",
    "   if sum([type(i)==int for i in arg1])==len(arg1) and \\\n",
    "      sum([type(i)==int for i in arg2])==len(arg2):\n",
    "         arg1_index=0\n",
    "         while arg1_index < len(arg1):\n",
    "            arg_2_sum = 0\n",
    "            arg_2_sum = arg1[arg1_index]+arg2[arg1_index]\n",
    "            arg1[arg1_index]=arg_2_sum  \n",
    "            arg1_index+=1\n",
    "         return arg1\n",
    "   #string section\n",
    "   elif sum([type(i)==str for i in arg1])==len(arg1) and \\\n",
    "      sum([type(i)==str for i in arg2])==len(arg2):\n",
    "         arg1_index=0\n",
    "         while arg1_index < len(arg1):\n",
    "            arg_2_sum = ''\n",
    "            for arg2_elements in arg2:\n",
    "               arg_2_sum += arg2_elements\n",
    "            arg1[arg1_index]=arg1[arg1_index]+str(arg_2_sum)\n",
    "            arg1_index+=1\n",
    "         return arg1\n",
    "\n",
    "    \n",
    "arg1 = [1,2,3]    #I replaced this section of the code so that the code had lists that were called\n",
    "arg2 = [1,1,1]\n",
    "wrong_add_function(arg1, arg2)\n",
    "\n",
    "#arg_str_1=['1','2','3']  I removed this section because these lists are not called in the above code\n",
    "#arg_str_2=['1','1', 1]\n",
    "\n",
    "#wrong_add_function(arg_str_1,arg_str_2)"
   ]
  },
  {
   "cell_type": "code",
   "execution_count": 20,
   "id": "53501e7f",
   "metadata": {},
   "outputs": [
    {
     "name": "stdout",
     "output_type": "stream",
     "text": [
      "Your input argument arg1 at element [0, 1] is not of the expected type. Please change this and rerun.\n"
     ]
    }
   ],
   "source": [
    "\"\"\"2.b\n",
    "Without modifying the string section code itself or the input directly, \n",
    "write a try, except block that catches the issue with the input below and \n",
    "returns an error message to the user, in case users give invalid inputs,\n",
    "(for example an input of [\"5\",\"2\", 5])\n",
    ": \"Your input argument [1 or 2] at element [n]\n",
    "is not of the expected type. Please change this and rerun. Name this function \n",
    "exception_add_function()\n",
    "\"\"\"\n",
    "def exception_add_function(arg1,arg2):\n",
    "    x=0\n",
    "    global n\n",
    "    global m\n",
    "    global TypeError_list\n",
    "    global TypeError_list2\n",
    "    n=0\n",
    "    m=0\n",
    "    TypeError_list=0\n",
    "    TypeError_list2=0\n",
    "    n = any(isinstance(x, str) for x in arg1)\n",
    "    if n == True:\n",
    "        n = \"arg1\"\n",
    "    m = any(isinstance(x, str) for x in arg2)\n",
    "    if m == True:\n",
    "        m = \"arg2\"\n",
    "    TypeError_list = [i for i, value in enumerate(arg1) if type(value) == str]\n",
    "    TypeError_list2 = [i for i, value in enumerate(arg2) if type(value) == str]\n",
    "    if sum([type(i)==int for i in arg1])==len(arg1) and \\\n",
    "        sum([type(i)==int for i in arg2])==len(arg2):\n",
    "        arg1_index=0\n",
    "        while arg1_index < len(arg1):\n",
    "            arg_2_sum = 0\n",
    "            arg_2_sum = arg1[arg1_index]+arg2[arg1_index]\n",
    "            arg1[arg1_index]=arg_2_sum  \n",
    "            arg1_index+=1\n",
    "        return arg1\n",
    "    #string section\n",
    "    elif sum([type(i)==str for i in arg1])==len(arg1) and \\\n",
    "        sum([type(i)==str for i in arg2])==len(arg2):\n",
    "        arg1_index=0\n",
    "        while arg1_index < len(arg1):\n",
    "            arg_2_sum = ''\n",
    "            for arg2_elements in arg2:\n",
    "                arg_2_sum += arg2_elements\n",
    "            arg1[arg1_index]=arg1[arg1_index]+str(arg_2_sum)\n",
    "            arg1_index+=1\n",
    "        return arg1\n",
    "    else:\n",
    "        print(y)\n",
    "            \n",
    "try:\n",
    "    arg1 = [\"5\",\"2\", 5]   # [1,2,3] \n",
    "    arg2 = [1,1,1]\n",
    "    exception_add_function(arg1,arg2)\n",
    "#    print(\"Your input argument\", n, \"at element\", TypeError_list,\"is not of the expected type. Please change this and rerun.\")\n",
    "\n",
    "except:   #this code indexes the list for str values and outputs their location in the list\n",
    "    if n==\"arg1\":\n",
    "        print(\"Your input argument\", n, \"at element\", TypeError_list,\"is not of the expected type. Please change this and rerun.\")\n",
    "    if m == \"arg2\":\n",
    "        print(\"Your input argument\", m, \"at element\", TypeError_list2,\"is not of the expected type. Please change this and rerun.\")\n",
    "        \n",
    "    "
   ]
  },
  {
   "cell_type": "code",
   "execution_count": 157,
   "id": "b81b9c44",
   "metadata": {},
   "outputs": [
    {
     "name": "stdout",
     "output_type": "stream",
     "text": [
      "['1111', '2111', '3111']\n"
     ]
    }
   ],
   "source": [
    "\"\"\"2.c\n",
    "Without modifying the string section code itself or the input directly, \n",
    "write a try, except block that catches the issue with the input below and \n",
    "gets it to process via the string section. IE, do not, outside the function,\n",
    "change the values of arg_str_1 or arg_str_2. Name this function \n",
    "correction_add_function(), i.e you will not be updating the wrong_add_function,\n",
    "you will simply handle the error of wrong inputs in a seperate function, you want\n",
    "the wrong_add_function to output its current result you are only bolstering the \n",
    "function for edge cases.\n",
    "\"\"\"\n",
    "def wrong_add_function(arg_str_1, arg_str_2):\n",
    "    global n\n",
    "    global m\n",
    "    global arg1\n",
    "    global arg2\n",
    "    arg1 = arg_str_1\n",
    "    arg2 = arg_str_2\n",
    "    n = 0\n",
    "    m = 0\n",
    "    n = any(isinstance(x, int) for x in arg_str_1)\n",
    "    if n == True:\n",
    "        print(y)\n",
    "    m = any(isinstance(x, int) for x in arg_str_2)\n",
    "    if m == True:\n",
    "        print(y)\n",
    "   #numeric section\n",
    "    if sum([type(i)==int for i in arg1])==len(arg1) and sum([type(i)==int for i in arg2])==len(arg2):\n",
    "        arg1_index=0\n",
    "        while arg1_index < len(arg1):\n",
    "            arg_2_sum = 0\n",
    "            arg_2_sum = arg1[arg1_index]+arg2[arg1_index]\n",
    "            arg1[arg1_index]=arg_2_sum  \n",
    "            arg1_index+=1\n",
    "        return arg1\n",
    "   #string section\n",
    "    elif sum([type(i)==str for i in arg1])==len(arg1) and sum([type(i)==str for i in arg2])==len(arg2):#\n",
    "        arg1_index=0\n",
    "        while arg1_index < len(arg1):\n",
    "            arg_2_sum = ''\n",
    "            for arg2_elements in arg2:\n",
    "                arg_2_sum += arg2_elements\n",
    "            arg1[arg1_index]=arg1[arg1_index]+str(arg_2_sum)\n",
    "            arg1_index+=1\n",
    "        return arg1  \n",
    "\n",
    "def correction_add_function(arg_str_1,arg_str_2):\n",
    "    global n\n",
    "    global m\n",
    "    global arg1\n",
    "    global arg2\n",
    "    arg1 = arg_str_1\n",
    "    arg2 = arg_str_2\n",
    "    n = 0\n",
    "    m = 0\n",
    "    n = any(isinstance(x, int) for x in arg_str_1)\n",
    "    if n == True:\n",
    "        arg1 = [str(i) for i in arg_str_1]\n",
    "    m = any(isinstance(x, int) for x in arg_str_2)\n",
    "    if m == True:\n",
    "        arg2 = [str(i) for i in arg_str_2]\n",
    "   #numeric section\n",
    "    if sum([type(i)==int for i in arg1])==len(arg1) and sum([type(i)==int for i in arg2])==len(arg2):\n",
    "        arg1_index=0\n",
    "        while arg1_index < len(arg1):\n",
    "            arg_2_sum = 0\n",
    "            arg_2_sum = arg1[arg1_index]+arg2[arg1_index]\n",
    "            arg1[arg1_index]=arg_2_sum  \n",
    "            arg1_index+=1\n",
    "        return arg1\n",
    "   #string section\n",
    "    elif sum([type(i)==str for i in arg1])==len(arg1) and sum([type(i)==str for i in arg2])==len(arg2):#\n",
    "        arg1_index=0\n",
    "        while arg1_index < len(arg1):\n",
    "            arg_2_sum = ''\n",
    "            for arg2_elements in arg2:\n",
    "                arg_2_sum += arg2_elements\n",
    "            arg1[arg1_index]=arg1[arg1_index]+str(arg_2_sum)\n",
    "            arg1_index+=1\n",
    "        return arg1   #The return statement did not produce an Output\n",
    "     \n",
    "try:\n",
    "    arg_str_1 = ['1','2','3']  \n",
    "    arg_str_2 = ['1','1', 1]\n",
    "    wrong_add_function(arg_str_1,arg_str_2)\n",
    "except:\n",
    "    correction_add_function(arg_str_1,arg_str_2)\n",
    "    print(arg1)   #I used this statement to show value of the variable that was returned successfully"
   ]
  }
 ],
 "metadata": {
  "kernelspec": {
   "display_name": "Python 3 (ipykernel)",
   "language": "python",
   "name": "python3"
  },
  "language_info": {
   "codemirror_mode": {
    "name": "ipython",
    "version": 3
   },
   "file_extension": ".py",
   "mimetype": "text/x-python",
   "name": "python",
   "nbconvert_exporter": "python",
   "pygments_lexer": "ipython3",
   "version": "3.10.6"
  }
 },
 "nbformat": 4,
 "nbformat_minor": 5
}
